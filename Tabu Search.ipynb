{
 "cells": [
  {
   "cell_type": "code",
   "execution_count": 1,
   "id": "40c7c622",
   "metadata": {},
   "outputs": [
    {
     "name": "stdout",
     "output_type": "stream",
     "text": [
      "Best solution: [1, 2, 3, 4, 5]\n",
      "Best solution fitness: 15\n"
     ]
    }
   ],
   "source": [
    "import random\n",
    "\n",
    "# Define the objective function\n",
    "def objective_function(solution):\n",
    "    # Contoh: Menghitung total nilai dalam solusi\n",
    "    return sum(solution)\n",
    "\n",
    "# Define the neighborhood function\n",
    "def get_neighbors(solution):\n",
    "    neighbors = []\n",
    "    for i in range(len(solution)):\n",
    "        for j in range(i + 1, len(solution)):\n",
    "            neighbor = solution[:]\n",
    "            neighbor[i], neighbor[j] = neighbor[j], neighbor[i]\n",
    "            neighbors.append(neighbor)\n",
    "    return neighbors\n",
    "\n",
    "# Define the Tabu Search algorithm\n",
    "def tabu_search(initial_solution, max_iterations, tabu_list_size):\n",
    "    best_solution = initial_solution\n",
    "    current_solution = initial_solution\n",
    "    tabu_list = []\n",
    "\n",
    "    for _ in range(max_iterations):\n",
    "        neighbors = get_neighbors(current_solution)\n",
    "        best_neighbor = None\n",
    "        best_neighbor_fitness = float('inf')\n",
    "\n",
    "        for neighbor in neighbors:\n",
    "            if neighbor not in tabu_list:\n",
    "                neighbor_fitness = objective_function(neighbor)\n",
    "                if neighbor_fitness < best_neighbor_fitness:\n",
    "                    best_neighbor = neighbor\n",
    "                    best_neighbor_fitness = neighbor_fitness\n",
    "\n",
    "        if best_neighbor is None:\n",
    "            # Jika tidak ada tetangga yang bukan tabu, akhiri pencarian\n",
    "            break\n",
    "\n",
    "        current_solution = best_neighbor\n",
    "        tabu_list.append(best_neighbor)\n",
    "        if len(tabu_list) > tabu_list_size:\n",
    "            # Hapus entri tertua dari daftar tabu jika melebihi ukuran\n",
    "            tabu_list.pop(0)\n",
    "\n",
    "        if objective_function(best_neighbor) < objective_function(best_solution):\n",
    "            # Perbarui solusi terbaik jika tetangga saat ini lebih baik\n",
    "            best_solution = best_neighbor\n",
    "\n",
    "    return best_solution\n",
    "\n",
    "# Example usage\n",
    "# Sediakan solusi awal\n",
    "initial_solution = [1, 2, 3, 4, 5]\n",
    "max_iterations = 100\n",
    "tabu_list_size = 10\n",
    "\n",
    "best_solution = tabu_search(initial_solution, max_iterations, tabu_list_size)\n",
    "print(\"Best solution:\", best_solution)\n",
    "print(\"Best solution fitness:\", objective_function(best_solution))"
   ]
  }
 ],
 "metadata": {
  "kernelspec": {
   "display_name": "Python 3 (ipykernel)",
   "language": "python",
   "name": "python3"
  },
  "language_info": {
   "codemirror_mode": {
    "name": "ipython",
    "version": 3
   },
   "file_extension": ".py",
   "mimetype": "text/x-python",
   "name": "python",
   "nbconvert_exporter": "python",
   "pygments_lexer": "ipython3",
   "version": "3.11.5"
  }
 },
 "nbformat": 4,
 "nbformat_minor": 5
}
